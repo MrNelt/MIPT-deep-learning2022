{
 "cells": [
  {
   "cell_type": "markdown",
   "metadata": {
    "id": "y1GvSl7RYATs"
   },
   "source": [
    "<h3 style=\"text-align: center;\"><b>Курс \"Глубокое обучение\"</b></h3>\n",
    "\n",
    "<h2 style=\"text-align: center;\"><b>Домашнее задание. Основы Python</b></h2>\n",
    "\n",
    "Вам предлагается решить задачи ниже. Решения необходимо сдавать в Stepik."
   ]
  },
  {
   "cell_type": "markdown",
   "metadata": {
    "id": "MDEu6tZQYATy"
   },
   "source": [
    "### Почти двойной факториал\n",
    "Дано натуральное $N \\leqslant 100$.  Выведите произведение всех нечётных натуральных чисел, не превосходящих $N$."
   ]
  },
  {
   "cell_type": "code",
   "execution_count": 16,
   "metadata": {
    "id": "5GgcNVy1YAT0"
   },
   "outputs": [],
   "source": [
    "def almost_double_factorial(n):\n",
    "    multy = 1 \n",
    "    for i in range(1, n + 1):\n",
    "        if i % 2 == 1: multy *= i\n",
    "    return multy\n"
   ]
  },
  {
   "cell_type": "code",
   "execution_count": 15,
   "metadata": {},
   "outputs": [
    {
     "data": {
      "text/plain": [
       "2725392139750729502980713245400918633290796330545803413734328823443106201171875"
      ]
     },
     "execution_count": 15,
     "metadata": {},
     "output_type": "execute_result"
    }
   ],
   "source": [
    "almost_double_factorial(100)"
   ]
  },
  {
   "cell_type": "code",
   "execution_count": 3,
   "metadata": {},
   "outputs": [
    {
     "data": {
      "text/plain": [
       "1"
      ]
     },
     "execution_count": 3,
     "metadata": {},
     "output_type": "execute_result"
    }
   ],
   "source": [
    "almost_double_factorial(0)"
   ]
  },
  {
   "cell_type": "markdown",
   "metadata": {
    "id": "A57_204nYAT3"
   },
   "source": [
    "### Хитрая сортировка\n",
    "\n",
    "Пусть у нас есть следующий список, в котором элементы -- tuple из строк:\n",
    "\n",
    "``items = [('one', 'two'), ('three', 'four'), ('five', 'six'), ('string', 'a')]``\n",
    "\n",
    "Мы хотим отсортировать этот список по последней букве второго элемента каждого ``tuple``, т.е. получить такой список:\n",
    "\n",
    "``sorted_items = [('string', 'a'), ('one', 'two'), ('three', 'four'), ('five', 'six')]``.\n",
    "Что нужно вставить вместо \"###\" в следующем выражении, чтобы получить сортировку?\n",
    "\n",
    "``sorted_items = sorted(items, key=lambda x: ###)``"
   ]
  },
  {
   "cell_type": "code",
   "execution_count": 4,
   "metadata": {
    "id": "SnIk7m_8YAT4"
   },
   "outputs": [],
   "source": [
    "items = [('one', 'two'), ('three', 'four'), ('five', 'six'), ('string', 'a')]\n",
    "\n",
    "sorted_items = sorted(items, key=lambda x: x[1][-1])\n",
    "                      \n",
    "assert sorted_items == [('string', 'a'), ('one', 'two'), ('three', 'four'), ('five', 'six')], \\\n",
    "\"Something is wrong! Please try again\""
   ]
  },
  {
   "cell_type": "code",
   "execution_count": 5,
   "metadata": {},
   "outputs": [
    {
     "data": {
      "text/plain": [
       "[('string', 'a'), ('one', 'two'), ('three', 'four'), ('five', 'six')]"
      ]
     },
     "execution_count": 5,
     "metadata": {},
     "output_type": "execute_result"
    }
   ],
   "source": [
    "sorted_items"
   ]
  },
  {
   "cell_type": "markdown",
   "metadata": {
    "id": "f_ggknIxYAT7"
   },
   "source": [
    "### Слайсы\n",
    "\n",
    "Дан код:\n",
    "\n",
    "``x = [1, 2, 3, 4, 5]``\n",
    "\n",
    "``x[###] = [-1, -3, -5]``\n",
    "\n",
    "``print(x)``\n",
    "\n",
    "Напишите слайс вместо ###, чтобы на экран вывелось:\n",
    "\n",
    "``[-5, 2, -3, 4, -1]``"
   ]
  },
  {
   "cell_type": "code",
   "execution_count": 6,
   "metadata": {
    "id": "JcLMmkF6YAT8"
   },
   "outputs": [],
   "source": [
    "x = [1, 2, 3, 4, 5]\n",
    "x[::-2] = [-1, -3, -5]\n",
    "assert x == [-5, 2, -3, 4, -1]"
   ]
  },
  {
   "cell_type": "markdown",
   "metadata": {
    "id": "3QOrzr1_YAT_"
   },
   "source": [
    "### Создание массивов\n",
    "Дан массив $A[0,\\ldots,N-1]$. Напишите функцию, принимающую один обязательный аргумент A и один опциональный аргумент ``erase``, по умолчанию равный 1. Возвратите массив $B[0,\\ldots, N-1]$, где $B_i = A_0 + \\ldots + A_{i}$ --- массив частичных сумм массива $A$, предварительно удалив из массива $B$ все элементы, равные erase. Постарайтесь сделать это за линейное время без использования Numpy."
   ]
  },
  {
   "cell_type": "code",
   "execution_count": 7,
   "metadata": {
    "id": "GSeVXF-xYAUA"
   },
   "outputs": [],
   "source": [
    "def cumsum_and_erase(A, erase=1):\n",
    "    B = [0] * len(A)\n",
    "    B[0] = A[0]\n",
    "    for j in range(1, len(A)):\n",
    "        B[j] = B[j - 1] + A[j]\n",
    "    return [x for x in B if x != erase]\n",
    "\n",
    "A = [5, 1, 4, 5, 14]\n",
    "B = cumsum_and_erase(A, erase=10)\n",
    "\n",
    "assert B == [5, 6, 15, 29], \"Something is wrong! Please try again\""
   ]
  },
  {
   "cell_type": "code",
   "execution_count": 8,
   "metadata": {},
   "outputs": [
    {
     "data": {
      "text/plain": [
       "[]"
      ]
     },
     "execution_count": 8,
     "metadata": {},
     "output_type": "execute_result"
    }
   ],
   "source": [
    "G = [1]\n",
    "cumsum_and_erase(G)"
   ]
  },
  {
   "cell_type": "markdown",
   "metadata": {
    "id": "xvOBFjavYAUD"
   },
   "source": [
    "### Обработка текста\n",
    "Дан список текстов, слова в которых разделены пробелами (можно считать, что знаков препинания нет). Часть слов является \"мусорными\": в них присутствуют цифры и спецсимволы. Отфильтруйте такие слова из каждого текста. Используйте функции ``str.split``, ``str.isalpha``, ``str.join``, а также [генератор filter](http://pythonicway.com/python-functinal-programming)."
   ]
  },
  {
   "cell_type": "code",
   "execution_count": 9,
   "metadata": {},
   "outputs": [
    {
     "data": {
      "text/plain": [
       "[0, 1, 4, 9, 16, 25, 36, 49, 64, 81]"
      ]
     },
     "execution_count": 9,
     "metadata": {},
     "output_type": "execute_result"
    }
   ],
   "source": [
    "squares = list(map(lambda x: x**2, range(10)))\n",
    "squares"
   ]
  },
  {
   "cell_type": "code",
   "execution_count": 10,
   "metadata": {},
   "outputs": [],
   "source": [
    "def process(sentences):\n",
    "    answer = []\n",
    "    for sentence in sentences:\n",
    "        words = sentence.split()\n",
    "        answer.append(\" \".join([x for x in words if x.isalpha()]))\n",
    "    return answer"
   ]
  },
  {
   "cell_type": "code",
   "execution_count": 11,
   "metadata": {
    "id": "GBzS-UHZYAUE"
   },
   "outputs": [
    {
     "data": {
      "text/plain": [
       "['thousand devils', 'My name is', 'Room costs']"
      ]
     },
     "execution_count": 11,
     "metadata": {},
     "output_type": "execute_result"
    }
   ],
   "source": [
    "sentences = ['1 thousand devils', 'My name is 9Pasha', 'Room #125 costs $100']\n",
    "process(sentences)"
   ]
  },
  {
   "cell_type": "markdown",
   "metadata": {
    "id": "EK5Llgf7YAUG"
   },
   "source": [
    "### Собственный класс \"Нейрон\"\n",
    "Реализуйте класс \"Нейрон\", у которого будет несколько методов: \n",
    "\n",
    "* ``__init__``. Принимает на вход массив весов нейрона --- $w = (w_1, \\ldots, w_n)$, а также функцию активации $f$ (по умолчанию $f(x) = x$). Сохраняет веса и функцию внутри класса.\n",
    "\n",
    "* ``forward``. Принимает на вход массив $x = (x_1, \\ldots, x_N)$ --- входы нейрона. Возвращает $f(w_1x_1 + \\ldots + w_nx_n)$.\n",
    "\n",
    "* ``backlog``. Возвращает последний массив $x$, который подавался функции ``forward`` на вход. \n",
    "\n",
    "Если у вас появились трудности, информация по созданию своих классов есть здесь: https://pythonworld.ru/osnovy/obektno-orientirovannoe-programmirovanie-obshhee-predstavlenie.html"
   ]
  },
  {
   "cell_type": "code",
   "execution_count": 12,
   "metadata": {
    "id": "ZmUVu7fNYAUH"
   },
   "outputs": [],
   "source": [
    "class Neuron:\n",
    "    \n",
    "    def __init__(self, w, f = lambda x: x):\n",
    "        self.w = w\n",
    "        self.f = f\n",
    "        self.last_x = []\n",
    "    \n",
    "    def forward(self, x):\n",
    "        self.last_x = x\n",
    "        scalar = 0\n",
    "        for i in range(len(self.last_x)):\n",
    "            scalar += (self.last_x[i] * self.w[i])\n",
    "        return self.f(scalar)\n",
    "        \n",
    "    def backlog(self):\n",
    "        return self.last_x\n"
   ]
  },
  {
   "cell_type": "code",
   "execution_count": 17,
   "metadata": {
    "id": "g6OIjuZhYAUK"
   },
   "outputs": [],
   "source": [
    "import math\n",
    "\n",
    "w = [0.5, 1., -1., 2.]\n",
    "\n",
    "neuron = Neuron([0.5, 1., -1., 2.], lambda x: 1. / (1 + math.exp(x)))\n",
    "\n",
    "x = [1, 2, 3, 4]\n",
    "\n",
    "assert abs(neuron.forward(x) - 0.0005527) < 1e-6, \"Something is wrong! Please try again\"\n",
    "\n",
    "assert neuron.backlog() == x, \"Something is wrong! Please try again\"\n",
    "\n",
    "y = [0, 0, 0, 0]\n",
    "\n",
    "assert abs(neuron.forward(y) - 0.5) < 1e-6, \"Something is wrong! Please try again\""
   ]
  }
 ],
 "metadata": {
  "colab": {
   "collapsed_sections": [],
   "provenance": []
  },
  "kernelspec": {
   "display_name": "Python 3.10.6 ('venv': venv)",
   "language": "python",
   "name": "python3"
  },
  "language_info": {
   "codemirror_mode": {
    "name": "ipython",
    "version": 3
   },
   "file_extension": ".py",
   "mimetype": "text/x-python",
   "name": "python",
   "nbconvert_exporter": "python",
   "pygments_lexer": "ipython3",
   "version": "3.10.6"
  },
  "vscode": {
   "interpreter": {
    "hash": "f2f7fa81ae9a5c020c6c111a577ca43c6c3d10d96e0bcf6bf0e2680cf2675d7c"
   }
  }
 },
 "nbformat": 4,
 "nbformat_minor": 1
}
